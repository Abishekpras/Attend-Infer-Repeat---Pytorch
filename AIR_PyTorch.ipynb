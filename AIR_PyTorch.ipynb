{
 "cells": [
  {
   "cell_type": "markdown",
   "metadata": {
    "slideshow": {
     "slide_type": "slide"
    }
   },
   "source": [
    "<h3 align=\"center\"><u>ATTEND INFER REPEAT</u></h3> "
   ]
  },
  {
   "cell_type": "markdown",
   "metadata": {
    "colab": {
     "base_uri": "https://localhost:8080/",
     "height": 89
    },
    "colab_type": "code",
    "id": "3IEVK-KFxi5Z",
    "outputId": "2253dacd-cdaf-4963-ffb5-5579874e06c0",
    "slideshow": {
     "slide_type": "fragment"
    }
   },
   "source": [
    "![title](AIR.png)"
   ]
  },
  {
   "cell_type": "markdown",
   "metadata": {
    "slideshow": {
     "slide_type": "notes"
    }
   },
   "source": [
    "<h3>1. Install all requirements</h3>\n",
    "<p>PyTorch, observations, PIL installation if non-existent already + creates data directory</p>"
   ]
  },
  {
   "cell_type": "code",
   "execution_count": 7,
   "metadata": {
    "colab": {
     "base_uri": "https://localhost:8080/",
     "height": 52
    },
    "colab_type": "code",
    "id": "vzinTXz0Bg25",
    "outputId": "1bd18da7-758a-4b7a-d741-607130b062cc",
    "slideshow": {
     "slide_type": "slide"
    }
   },
   "outputs": [
    {
     "name": "stderr",
     "output_type": "stream",
     "text": [
      "C:\\Program Files\\Anaconda3\\lib\\site-packages\\wheel\\pep425tags.py:77: RuntimeWarning: Config variable 'Py_DEBUG' is unset, Python ABI tag may be incorrect\n",
      "  warn=(impl == 'cp')):\n",
      "C:\\Program Files\\Anaconda3\\lib\\site-packages\\wheel\\pep425tags.py:81: RuntimeWarning: Config variable 'WITH_PYMALLOC' is unset, Python ABI tag may be incorrect\n",
      "  warn=(impl == 'cp')):\n"
     ]
    }
   ],
   "source": [
    "from os import path\n",
    "from wheel.pep425tags import get_abbr_impl, get_impl_ver, get_abi_tag\n",
    "\n",
    "platform = '{}{}-{}'.format(get_abbr_impl(), get_impl_ver(), get_abi_tag())\n",
    "\n",
    "accelerator = 'cu80' if path.exists('/opt/bin/nvidia-smi') else 'cpu'\n",
    "\n",
    "!pip install Pillow==4.0.0\n",
    "!pip install PIL\n",
    "!pip install image\n",
    "!pip install Pillow\n",
    "!pip install observations\n",
    "!pip install -q http://download.pytorch.org/whl/{accelerator}/torch-0.4.0-{platform}-linux_x86_64.whl torchvision\n",
    "!mkdir data\n",
    "\n",
    "import torch\n",
    "from PIL import Image\n",
    "\n",
    "''' Ensure PyTorch version is 0.4.0 or higher ''''''\n",
    "print(torch.__version__)\n",
    "\n",
    "''' If using GPU, ensure cuda is available (True) '''\n",
    "use_cuda = torch.cuda.is_available()\n",
    "print('Torch device - GPU' if use_cuda else 'Torch device - CPU')"
   ]
  },
  {
   "cell_type": "code",
   "execution_count": 8,
   "metadata": {},
   "outputs": [
    {
     "name": "stdout",
     "output_type": "stream",
     "text": [
      "Couldn't find program: 'bash'\n"
     ]
    }
   ],
   "source": [
    "%%bash\n",
    "\n",
    "pip install Pillow==4.0.0\n",
    "pip install PIL\n",
    "pip install image\n",
    "pip install Pillow\n",
    "pip install observations\n",
    "pip install -q http://download.pytorch.org/whl/{accelerator}/torch-0.4.0-{platform}-linux_x86_64.whl torchvision\n",
    "mkdir data"
   ]
  },
  {
   "cell_type": "code",
   "execution_count": 1,
   "metadata": {},
   "outputs": [
    {
     "name": "stdout",
     "output_type": "stream",
     "text": [
      "0.4.0\n",
      "Torch device - CPU\n"
     ]
    }
   ],
   "source": [
    "import torch\n",
    "from PIL import Image\n",
    "\n",
    "''' Ensure PyTorch version is 0.4.0 or higher '''\n",
    "print(torch.__version__)\n",
    "\n",
    "''' If using GPU, ensure cuda is available (True) '''\n",
    "use_cuda = torch.cuda.is_available()\n",
    "print('Torch device - GPU' if use_cuda else 'Torch device - CPU')"
   ]
  },
  {
   "cell_type": "markdown",
   "metadata": {},
   "source": [
    "<h3>2. Data loading routines </h3>\n",
    "<p> Train and Test loaders are initialized to return shuffled batches of data </p>"
   ]
  },
  {
   "cell_type": "code",
   "execution_count": 2,
   "metadata": {
    "colab": {},
    "colab_type": "code",
    "collapsed": true,
    "id": "sJzzk7vvBJo1"
   },
   "outputs": [],
   "source": [
    "from __future__ import print_function\n",
    "from observations import multi_mnist\n",
    "import matplotlib.pyplot as plt\n",
    "import matplotlib.image as mpimg\n",
    "import numpy as np\n",
    "import torch\n",
    "import math\n",
    "import torch.utils.data\n",
    "from torch import nn, optim\n",
    "from torch.nn import functional as F\n",
    "from torchvision import datasets, transforms\n",
    "from torchvision.utils import save_image\n",
    "from torch.utils.data import DataLoader\n",
    "from torch.distributions.bernoulli import Bernoulli\n",
    "from torch.distributions.normal import Normal\n",
    "\n",
    "torch.manual_seed(1)\n",
    "device = torch.device(\"cuda\" if use_cuda else \"cpu\")\n",
    "\n",
    "''' Data loading routines '''\n",
    "\n",
    "def shuffle_data(X, y):\n",
    "    ''' Random shuffle of the samples in X and y '''\n",
    "    idx = np.arange(X.shape[0])\n",
    "    np.random.shuffle(idx)\n",
    "    return X[idx], y[idx]\n",
    "\n",
    "def batch_iterator(X, y=None, batch_size=64):\n",
    "    ''' Simple batch generator '''\n",
    "    n_samples = X.shape[0]\n",
    "    for i in np.arange(0, n_samples, batch_size):\n",
    "        begin, end = i, min(i+batch_size, n_samples)\n",
    "        if y is not None:\n",
    "            yield X[begin:end], y[begin:end]\n",
    "        else:\n",
    "            yield X[begin:end]\n",
    "            \n",
    "def fetch_data():\n",
    "    ''' Downloads multi_mnist dataset to inpath location \n",
    "        Normalizes and shuffles data (70k image-label pairs)\n",
    "        Train-test split : (60k : 10k) is standard and *cannot* be tuned.\n",
    "    '''\n",
    "    inpath = './data/'\n",
    "    (X_train, y_train), (X_test, y_test) = multi_mnist(inpath, max_digits=2, canvas_size=50, seed=42)\n",
    "    X_train, X_test = X_train.astype(np.float32), X_test.astype(np.float32)\n",
    "    X_train /= 255.0\n",
    "    X_test /= 255.0\n",
    "    \n",
    "    X_train, y_train = shuffle_data(X_train, y_train)\n",
    "    X_test, y_test = shuffle_data(X_test, y_test)\n",
    "\n",
    "    return torch.from_numpy(X_train), y_train, torch.from_numpy(X_test), y_test\n",
    "\n",
    "def data_iter_init():\n",
    "    ''' Returns train_data_loader and test_data_loader '''\n",
    "    X_train, y_train, X_test, y_test = fetch_data()\n",
    "    train_dset_size, test_dset_size = X_train.size(0), X_test.size(0)\n",
    "    return batch_iterator(X_train, y_train), batch_iterator(X_test, y_test), train_dset_size, test_dset_size"
   ]
  },
  {
   "cell_type": "markdown",
   "metadata": {},
   "source": [
    "<p><b> Spatial Transformer network </b></p>\n",
    "<p> AIR network outputs z_where as [scale, x_coord, y_coord] which encodes the pose information. This latent code is used (1) to extract an object from image, and (2) to align an object while reconstructing the full image</p>"
   ]
  },
  {
   "cell_type": "code",
   "execution_count": 3,
   "metadata": {
    "colab": {},
    "colab_type": "code",
    "collapsed": true,
    "id": "t9ALbbpmY9rm"
   },
   "outputs": [],
   "source": [
    "''' Spatial Transformer Network operations\n",
    "    Taken from Pyro implementation : http://pyro.ai/examples/air.html\n",
    "'''\n",
    "\n",
    "def expand_z_where(z_where):\n",
    "    ''' Takes 3-dimensional vectors, and massages them into 2x3 matrices with elements like so:\n",
    "        [s,x,y] -> [[s,0,x],\n",
    "                    [0,s,y]]\n",
    "    '''\n",
    "    n = z_where.size(0)\n",
    "    expansion_indices = torch.LongTensor([1, 0, 2, 0, 1, 3]).to(device)\n",
    "    out = torch.cat((torch.zeros([1, 1]).expand(n, 1).to(device), z_where), 1)\n",
    "    return torch.index_select(out, 1, expansion_indices).view(n, 2, 3)\n",
    "\n",
    "def object_to_image(z_where, obj):\n",
    "    ''' obj of dimension 20x20 is laid on a 50x50 canvas, and aligned & scaled based on z_where '''\n",
    "    n = obj.size(0)\n",
    "    theta = expand_z_where(z_where)\n",
    "    grid = F.affine_grid(theta, torch.Size((n, 1, 50, 50)))\n",
    "    out = F.grid_sample(obj.view(n, 1, 20, 20), grid)\n",
    "    return out.view(n, 50, 50)\n",
    "\n",
    "\n",
    "def z_where_inv(z_where):\n",
    "    ''' Take a batch of z_where vectors, and compute their \"inverse\".\n",
    "        That is, for each row compute:\n",
    "        [s,x,y] -> [1/s,-x/s,-y/s]\n",
    "        These are the parameters required to perform the inverse of the\n",
    "        spatial transform performed in the generative model.\n",
    "    '''\n",
    "    n = z_where.size(0)\n",
    "    out = torch.cat((torch.ones([1, 1]).type_as(z_where).expand(n, 1).to(device), -z_where[:, 1:]), 1)\n",
    "    out = out / z_where[:, 0:1]\n",
    "    return out\n",
    "\n",
    "def image_to_object(z_where, image):\n",
    "    ''' obj of dimension 20x20 is extracted from image of 50x50 using z_where '''\n",
    "    n = image.size(0)\n",
    "    theta_inv = expand_z_where(z_where_inv(z_where))\n",
    "    grid = F.affine_grid(theta_inv, torch.Size((n, 1, 20, 20)))\n",
    "    out = F.grid_sample(image.view(n, 1, 50, 50), grid)\n",
    "    return out.view(n, -1)"
   ]
  },
  {
   "cell_type": "markdown",
   "metadata": {},
   "source": [
    "<h3>3. Class describing state of latent variables</h3>\n",
    "<p> Z_pres alone is initialized to all ones </p>\n",
    "<p> Z_where and Z_what are intitalized to zeros </p>\n",
    "<p> These init values are passed as input to the inference network (LSTM) in its very first step </p>"
   ]
  },
  {
   "cell_type": "code",
   "execution_count": 4,
   "metadata": {
    "colab": {},
    "colab_type": "code",
    "collapsed": true,
    "id": "ki0Io_u-CIyX"
   },
   "outputs": [],
   "source": [
    "class latent_code_state(object):\n",
    "    \n",
    "    def __init__(self, batch_size, z_pres_dim, z_where_dim, z_what_dim, lstm_state_dim):\n",
    "        self.z_where_scale_mu = None\n",
    "        self.z_where_scale_logvar = None\n",
    "        self.z_where_shift_mu = None\n",
    "        self.z_where_shift_logvar = None\n",
    "        self.z_where = torch.zeros(batch_size, z_where_dim).to(device)\n",
    "        self.z_what_mu = None\n",
    "        self.z_what_logvar = None\n",
    "        self.z_what = torch.zeros(batch_size, z_what_dim).to(device)\n",
    "        self.z_pres_prob = 0.01 * torch.ones(batch_size)\n",
    "        self.z_pres = torch.ones(batch_size, z_pres_dim).to(device)\n",
    "        self.h = torch.zeros(batch_size, lstm_state_dim).to(device)\n",
    "        self.c = torch.zeros(batch_size, lstm_state_dim).to(device)\n",
    "        self.baseline_z_pres = torch.ones(batch_size, z_pres_dim).to(device)\n",
    "        self.baseline_h = torch.zeros(batch_size, lstm_state_dim).to(device)\n",
    "        self.baseline_c = torch.zeros(batch_size, lstm_state_dim).to(device)\n",
    "        self.z_pres_list = []"
   ]
  },
  {
   "cell_type": "code",
   "execution_count": 5,
   "metadata": {
    "colab": {},
    "colab_type": "code",
    "collapsed": true,
    "id": "shg-BAP6CLaG"
   },
   "outputs": [],
   "source": [
    "def log_standard_gaussian(x):\n",
    "    ''' Evaluates the log pdf of a standard normal distribution at x.\n",
    "        :param x: point to evaluate\n",
    "        :return: log N(x|0,I)\n",
    "    '''\n",
    "    return torch.sum(-0.5 * math.log(2 * math.pi) - x ** 2 / 2, dim=-1)\n",
    "\n",
    "\n",
    "def log_gaussian(x, mu, log_var):\n",
    "    ''' Returns the log pdf of a normal distribution parametrised\n",
    "        by mu and log_var evaluated at x.\n",
    "        :param x: point to evaluate\n",
    "        :param mu: mean of distribution\n",
    "        :param log_var: log variance of distribution\n",
    "        :return: log N(x|µ,σ)\n",
    "    '''\n",
    "    log_pdf = - 0.5 * math.log(2 * math.pi) - log_var / 2 - (x - mu)**2 / (2 * torch.exp(log_var))\n",
    "    return torch.sum(log_pdf, dim=-1)\n",
    "\n",
    "def compute_kld(z, q_mu, q_logvar):\n",
    "    ''' Computes the KL-divergence of\n",
    "        some element z.\n",
    "        KL(q||p) = -∫ q(z) log [ p(z) / q(z) ]\n",
    "                 = -E[log p(z) - log q(z)]\n",
    "        :param z: sample from q-distribuion\n",
    "        :param q_param: (mu, log_var) of the q-distribution\n",
    "        :param p_param: (mu, log_var) of the p-distribution : Assumed to be  (0,1)\n",
    "        :return: KL(q||p)\n",
    "    '''\n",
    "\n",
    "    qz = log_gaussian(z, q_mu, q_logvar)\n",
    "    pz = log_standard_gaussian(z)\n",
    "    \n",
    "    kl = qz - pz\n",
    "\n",
    "    return kl"
   ]
  },
  {
   "cell_type": "markdown",
   "metadata": {},
   "source": [
    "<h3>4. AIR module</h3>\n",
    "<p> The model is split into an infer net and a generator net. Infer net spits out z_pres, z_where and z_what from image and previous state information, while the Generator net reconstructs entire image from z_pres, z_where and z_what codes. N = 3 time steps are executed with the (infer net - generator net) combo. </p>"
   ]
  },
  {
   "cell_type": "code",
   "execution_count": 6,
   "metadata": {
    "colab": {
     "base_uri": "https://localhost:8080/",
     "height": 11249
    },
    "colab_type": "code",
    "id": "mdAgykfmCNdf",
    "outputId": "e27bcf6e-65e9-4617-96ae-653197d8ef1d",
    "scrolled": true
   },
   "outputs": [
    {
     "name": "stdout",
     "output_type": "stream",
     "text": [
      "====> Epoch: 1 Average loss: 1605.8293\n",
      "{'z_pres_prob': [-0.66, 0.25, 0.25, -0.17], 'z_pres': [0.0, 0.0, 0.0, 0.0]}\n",
      "{'z_pres_prob': [0.04, 0.14, 0.14, 0.07], 'z_pres': [0.0, 0.0, 0.0, 0.0]}\n",
      "{'z_pres_prob': [0.03, 0.1, 0.1, 0.07], 'z_pres': [0.0, 0.0, 0.0, 0.0]}\n"
     ]
    },
    {
     "data": {
      "image/png": "[encoded data removed]",
      "text/plain": [
       "<matplotlib.figure.Figure at 0x281b1d6cb00>"
      ]
     },
     "metadata": {},
     "output_type": "display_data"
    },
    {
     "name": "stdout",
     "output_type": "stream",
     "text": [
      "====> Test set loss: 1623.1915\n",
      "====> Epoch: 2 Average loss: 1596.4299\n",
      "{'z_pres_prob': [0.19, 0.19, 0.04, -0.12], 'z_pres': [0.0, 0.0, 0.0, 0.0]}\n",
      "{'z_pres_prob': [0.09, 0.09, 0.02, 0.04], 'z_pres': [0.0, 0.0, 0.0, 0.0]}\n",
      "{'z_pres_prob': [0.06, 0.06, 0.02, 0.04], 'z_pres': [0.0, 0.0, 0.0, 0.0]}\n"
     ]
    },
    {
     "data": {
      "image/png": "[encoded data removed]",
      "text/plain": [
       "<matplotlib.figure.Figure at 0x281b00efdd8>"
      ]
     },
     "metadata": {},
     "output_type": "display_data"
    },
    {
     "name": "stdout",
     "output_type": "stream",
     "text": [
      "====> Test set loss: 1623.3363\n",
      "====> Epoch: 3 Average loss: 1595.7001\n",
      "{'z_pres_prob': [-0.06, 0.14, 0.14, 0.14], 'z_pres': [0.0, 0.0, 1.0, 0.0]}\n",
      "{'z_pres_prob': [0.01, 0.04, 0.02, 0.04], 'z_pres': [0.0, 0.0, 0.0, 0.0]}\n",
      "{'z_pres_prob': [0.02, 0.03, 0.02, 0.03], 'z_pres': [0.0, 0.0, 0.0, 0.0]}\n"
     ]
    },
    {
     "data": {
      "image/png": "[encoded data removed]",
      "text/plain": [
       "<matplotlib.figure.Figure at 0x281baf72390>"
      ]
     },
     "metadata": {},
     "output_type": "display_data"
    },
    {
     "name": "stdout",
     "output_type": "stream",
     "text": [
      "====> Test set loss: 1624.0197\n",
      "====> Epoch: 4 Average loss: 1595.5027\n",
      "{'z_pres_prob': [0.11, 0.11, -0.27, 0.11], 'z_pres': [0.0, 0.0, 0.0, 0.0]}\n",
      "{'z_pres_prob': [0.01, 0.01, 0.01, 0.01], 'z_pres': [0.0, 0.0, 0.0, 0.0]}\n",
      "{'z_pres_prob': [0.01, 0.01, 0.01, 0.01], 'z_pres': [0.0, 0.0, 0.0, 0.0]}\n"
     ]
    },
    {
     "data": {
      "image/png": "[encoded data removed]",
      "text/plain": [
       "<matplotlib.figure.Figure at 0x281bafa36a0>"
      ]
     },
     "metadata": {},
     "output_type": "display_data"
    },
    {
     "name": "stdout",
     "output_type": "stream",
     "text": [
      "====> Test set loss: 1623.4753\n",
      "====> Epoch: 5 Average loss: 1595.4473\n",
      "{'z_pres_prob': [0.08, 0.08, -0.23, -0.25], 'z_pres': [0.0, 0.0, 0.0, 0.0]}\n",
      "{'z_pres_prob': [0.01, 0.01, 0.02, 0.03], 'z_pres': [0.0, 0.0, 0.0, 0.0]}\n",
      "{'z_pres_prob': [0.01, 0.01, 0.02, 0.02], 'z_pres': [0.0, 0.0, 0.0, 0.0]}\n"
     ]
    },
    {
     "data": {
      "image/png": "[encoded data removed]",
      "text/plain": [
       "<matplotlib.figure.Figure at 0x281ac759240>"
      ]
     },
     "metadata": {},
     "output_type": "display_data"
    },
    {
     "name": "stdout",
     "output_type": "stream",
     "text": [
      "====> Test set loss: 1623.0281\n",
      "====> Epoch: 6 Average loss: 1595.4891\n",
      "{'z_pres_prob': [0.08, -0.22, -0.22, 0.08], 'z_pres': [0.0, 0.0, 0.0, 0.0]}\n",
      "{'z_pres_prob': [0.0, 0.01, 0.01, 0.0], 'z_pres': [0.0, 0.0, 0.0, 0.0]}\n",
      "{'z_pres_prob': [0.01, 0.01, 0.01, 0.01], 'z_pres': [0.0, 0.0, 0.0, 0.0]}\n"
     ]
    },
    {
     "data": {
      "image/png": "[encoded data removed]",
      "text/plain": [
       "<matplotlib.figure.Figure at 0x281bae05198>"
      ]
     },
     "metadata": {},
     "output_type": "display_data"
    },
    {
     "name": "stdout",
     "output_type": "stream",
     "text": [
      "====> Test set loss: 1622.8944\n",
      "====> Epoch: 7 Average loss: 1595.4689\n",
      "{'z_pres_prob': [-0.08, 0.03, 0.03, -0.05], 'z_pres': [0.0, 0.0, 0.0, 0.0]}\n",
      "{'z_pres_prob': [0.01, 0.0, 0.0, 0.0], 'z_pres': [0.0, 0.0, 0.0, 0.0]}\n",
      "{'z_pres_prob': [0.01, 0.0, 0.0, 0.0], 'z_pres': [0.0, 0.0, 0.0, 0.0]}\n"
     ]
    },
    {
     "data": {
      "image/png": "[encoded data removed]",
      "text/plain": [
       "<matplotlib.figure.Figure at 0x281af655f28>"
      ]
     },
     "metadata": {},
     "output_type": "display_data"
    },
    {
     "name": "stdout",
     "output_type": "stream",
     "text": [
      "====> Test set loss: 1622.5619\n",
      "====> Epoch: 8 Average loss: 1595.4806\n",
      "{'z_pres_prob': [-0.15, 0.0, -0.14, -0.14], 'z_pres': [0.0, 0.0, 0.0, 0.0]}\n",
      "{'z_pres_prob': [0.01, 0.0, 0.0, 0.0], 'z_pres': [0.0, 0.0, 0.0, 0.0]}\n",
      "{'z_pres_prob': [0.01, 0.0, 0.0, 0.0], 'z_pres': [0.0, 0.0, 0.0, 0.0]}\n"
     ]
    },
    {
     "data": {
      "image/png": "[encoded data removed]",
      "text/plain": [
       "<matplotlib.figure.Figure at 0x2818a5637b8>"
      ]
     },
     "metadata": {},
     "output_type": "display_data"
    },
    {
     "name": "stdout",
     "output_type": "stream",
     "text": [
      "====> Test set loss: 1622.4455\n",
      "====> Epoch: 9 Average loss: 1595.4804\n",
      "{'z_pres_prob': [-0.01, -0.01, -0.01, -0.11], 'z_pres': [0.0, 0.0, 0.0, 0.0]}\n",
      "{'z_pres_prob': [0.0, 0.0, 0.0, 0.0], 'z_pres': [0.0, 0.0, 0.0, 0.0]}\n",
      "{'z_pres_prob': [0.0, 0.0, 0.0, 0.0], 'z_pres': [0.0, 0.0, 0.0, 0.0]}\n"
     ]
    },
    {
     "data": {
      "image/png": "[encoded data removed]",
      "text/plain": [
       "<matplotlib.figure.Figure at 0x2818a563c18>"
      ]
     },
     "metadata": {},
     "output_type": "display_data"
    },
    {
     "name": "stdout",
     "output_type": "stream",
     "text": [
      "====> Test set loss: 1622.4120\n",
      "====> Epoch: 10 Average loss: 1595.4797\n",
      "{'z_pres_prob': [-0.03, -0.03, -0.1, -0.13], 'z_pres': [0.0, 0.0, 0.0, 0.0]}\n",
      "{'z_pres_prob': [0.0, 0.0, 0.0, 0.01], 'z_pres': [0.0, 0.0, 0.0, 0.0]}\n",
      "{'z_pres_prob': [0.0, 0.0, 0.0, 0.01], 'z_pres': [0.0, 0.0, 0.0, 0.0]}\n"
     ]
    },
    {
     "data": {
      "image/png": "[encoded data removed]",
      "text/plain": [
       "<matplotlib.figure.Figure at 0x2818a85d0f0>"
      ]
     },
     "metadata": {},
     "output_type": "display_data"
    },
    {
     "name": "stdout",
     "output_type": "stream",
     "text": [
      "====> Test set loss: 1622.5189\n",
      "====> Epoch: 11 Average loss: 1595.4796\n",
      "{'z_pres_prob': [-0.12, -0.09, -0.13, -0.11], 'z_pres': [0.0, 0.0, 0.0, 0.0]}\n",
      "{'z_pres_prob': [0.01, 0.0, 0.0, 0.0], 'z_pres': [0.0, 0.0, 0.0, 0.0]}\n",
      "{'z_pres_prob': [0.01, 0.0, 0.0, 0.0], 'z_pres': [0.0, 0.0, 0.0, 0.0]}\n"
     ]
    },
    {
     "data": {
      "image/png": "[encoded data removed]",
      "text/plain": [
       "<matplotlib.figure.Figure at 0x2818aa99898>"
      ]
     },
     "metadata": {},
     "output_type": "display_data"
    },
    {
     "name": "stdout",
     "output_type": "stream",
     "text": [
      "====> Test set loss: 1622.4569\n",
      "====> Epoch: 12 Average loss: 1595.4797\n",
      "{'z_pres_prob': [-0.15, -0.13, -0.1, -0.08], 'z_pres': [0.0, 0.0, 0.0, 0.0]}\n",
      "{'z_pres_prob': [0.0, 0.0, 0.0, 0.0], 'z_pres': [0.0, 0.0, 0.0, 0.0]}\n",
      "{'z_pres_prob': [0.0, 0.0, 0.0, 0.0], 'z_pres': [0.0, 0.0, 0.0, 0.0]}\n"
     ]
    },
    {
     "data": {
      "image/png": "[encoded data removed]",
      "text/plain": [
       "<matplotlib.figure.Figure at 0x2818a561940>"
      ]
     },
     "metadata": {},
     "output_type": "display_data"
    },
    {
     "name": "stdout",
     "output_type": "stream",
     "text": [
      "====> Test set loss: 1622.4051\n",
      "====> Epoch: 13 Average loss: 1595.4790\n",
      "{'z_pres_prob': [-0.11, -0.12, -0.09, -0.11], 'z_pres': [0.0, 0.0, 0.0, 0.0]}\n",
      "{'z_pres_prob': [0.0, 0.0, 0.0, 0.0], 'z_pres': [0.0, 0.0, 0.0, 0.0]}\n",
      "{'z_pres_prob': [0.0, 0.0, 0.0, 0.0], 'z_pres': [0.0, 0.0, 0.0, 0.0]}\n"
     ]
    },
    {
     "data": {
      "image/png": "[encoded data removed]",
      "text/plain": [
       "<matplotlib.figure.Figure at 0x28181447630>"
      ]
     },
     "metadata": {},
     "output_type": "display_data"
    },
    {
     "name": "stdout",
     "output_type": "stream",
     "text": [
      "====> Test set loss: 1622.4061\n",
      "====> Epoch: 14 Average loss: 1595.4787\n",
      "{'z_pres_prob': [-0.08, -0.12, -0.12, -0.11], 'z_pres': [0.0, 0.0, 0.0, 0.0]}\n",
      "{'z_pres_prob': [0.0, 0.0, 0.0, 0.0], 'z_pres': [0.0, 0.0, 0.0, 0.0]}\n",
      "{'z_pres_prob': [0.01, 0.0, 0.0, 0.0], 'z_pres': [0.0, 0.0, 0.0, 0.0]}\n"
     ]
    },
    {
     "data": {
      "image/png": "[encoded data removed]",
      "text/plain": [
       "<matplotlib.figure.Figure at 0x28181447748>"
      ]
     },
     "metadata": {},
     "output_type": "display_data"
    },
    {
     "name": "stdout",
     "output_type": "stream",
     "text": [
      "====> Test set loss: 1622.4396\n",
      "====> Epoch: 15 Average loss: 1595.4792\n",
      "{'z_pres_prob': [-0.08, -0.12, -0.08, -0.08], 'z_pres': [0.0, 0.0, 0.0, 0.0]}\n",
      "{'z_pres_prob': [0.0, 0.0, 0.0, 0.0], 'z_pres': [0.0, 0.0, 0.0, 0.0]}\n",
      "{'z_pres_prob': [0.0, 0.0, 0.0, 0.0], 'z_pres': [0.0, 0.0, 0.0, 0.0]}\n"
     ]
    },
    {
     "data": {
      "image/png": "[encoded data removed]",
      "text/plain": [
       "<matplotlib.figure.Figure at 0x281b00ad630>"
      ]
     },
     "metadata": {},
     "output_type": "display_data"
    },
    {
     "name": "stdout",
     "output_type": "stream",
     "text": [
      "====> Test set loss: 1622.4787\n",
      "====> Epoch: 16 Average loss: 1595.4785\n",
      "{'z_pres_prob': [-0.12, -0.11, -0.14, -0.17], 'z_pres': [0.0, 0.0, 0.0, 0.0]}\n",
      "{'z_pres_prob': [0.0, 0.0, 0.0, 0.0], 'z_pres': [0.0, 0.0, 0.0, 0.0]}\n",
      "{'z_pres_prob': [0.0, 0.0, 0.0, 0.0], 'z_pres': [0.0, 0.0, 0.0, 0.0]}\n"
     ]
    },
    {
     "data": {
      "image/png": "[encoded data removed]",
      "text/plain": [
       "<matplotlib.figure.Figure at 0x28181447278>"
      ]
     },
     "metadata": {},
     "output_type": "display_data"
    },
    {
     "name": "stdout",
     "output_type": "stream",
     "text": [
      "====> Test set loss: 1622.4426\n",
      "====> Epoch: 17 Average loss: 1595.4512\n",
      "{'z_pres_prob': [-0.11, -0.08, -0.13, -0.08], 'z_pres': [0.0, 0.0, 0.0, 0.0]}\n",
      "{'z_pres_prob': [0.0, 0.0, 0.0, 0.0], 'z_pres': [0.0, 0.0, 0.0, 0.0]}\n",
      "{'z_pres_prob': [0.0, 0.0, 0.0, 0.0], 'z_pres': [0.0, 0.0, 0.0, 0.0]}\n"
     ]
    },
    {
     "data": {
      "image/png": "[encoded data removed]",
      "text/plain": [
       "<matplotlib.figure.Figure at 0x281bd8349e8>"
      ]
     },
     "metadata": {},
     "output_type": "display_data"
    },
    {
     "name": "stdout",
     "output_type": "stream",
     "text": [
      "====> Test set loss: 1622.5109\n",
      "====> Epoch: 18 Average loss: 1595.4790\n",
      "{'z_pres_prob': [-0.09, -0.12, -0.09, -0.08], 'z_pres': [0.0, 0.0, 0.0, 0.0]}\n",
      "{'z_pres_prob': [0.0, 0.0, 0.0, 0.0], 'z_pres': [0.0, 0.0, 0.0, 0.0]}\n",
      "{'z_pres_prob': [0.0, 0.0, 0.0, 0.0], 'z_pres': [0.0, 0.0, 0.0, 0.0]}\n"
     ]
    },
    {
     "data": {
      "image/png": "[encoded data removed]",
      "text/plain": [
       "<matplotlib.figure.Figure at 0x28180df2240>"
      ]
     },
     "metadata": {},
     "output_type": "display_data"
    },
    {
     "name": "stdout",
     "output_type": "stream",
     "text": [
      "====> Test set loss: 1622.4795\n",
      "====> Epoch: 19 Average loss: 1595.4790\n",
      "{'z_pres_prob': [-0.15, -0.11, -0.09, -0.1], 'z_pres': [0.0, 0.0, 0.0, 0.0]}\n",
      "{'z_pres_prob': [0.0, 0.0, 0.0, 0.0], 'z_pres': [0.0, 0.0, 0.0, 0.0]}\n",
      "{'z_pres_prob': [0.0, 0.0, 0.0, 0.0], 'z_pres': [0.0, 0.0, 0.0, 0.0]}\n"
     ]
    },
    {
     "data": {
      "image/png": "[encoded data removed]",
      "text/plain": [
       "<matplotlib.figure.Figure at 0x2818a48c630>"
      ]
     },
     "metadata": {},
     "output_type": "display_data"
    },
    {
     "name": "stdout",
     "output_type": "stream",
     "text": [
      "====> Test set loss: 1622.4166\n",
      "====> Epoch: 20 Average loss: 1595.4780\n",
      "{'z_pres_prob': [-0.14, -0.09, -0.08, -0.13], 'z_pres': [0.0, 0.0, 0.0, 0.0]}\n",
      "{'z_pres_prob': [0.0, 0.0, 0.0, 0.0], 'z_pres': [0.0, 0.0, 0.0, 0.0]}\n",
      "{'z_pres_prob': [0.0, 0.0, 0.0, 0.0], 'z_pres': [0.0, 0.0, 0.0, 0.0]}\n"
     ]
    },
    {
     "data": {
      "image/png": "[encoded data removed]",
      "text/plain": [
       "<matplotlib.figure.Figure at 0x281bb061b38>"
      ]
     },
     "metadata": {},
     "output_type": "display_data"
    },
    {
     "name": "stdout",
     "output_type": "stream",
     "text": [
      "====> Test set loss: 1622.4078\n",
      "====> Epoch: 21 Average loss: 1595.4783\n",
      "{'z_pres_prob': [-0.11, -0.09, -0.18, -0.09], 'z_pres': [0.0, 0.0, 0.0, 0.0]}\n",
      "{'z_pres_prob': [0.0, 0.0, 0.0, 0.0], 'z_pres': [0.0, 0.0, 0.0, 0.0]}\n",
      "{'z_pres_prob': [0.0, 0.0, 0.0, 0.0], 'z_pres': [0.0, 0.0, 0.0, 0.0]}\n"
     ]
    },
    {
     "data": {
      "image/png": "[encoded data removed]",
      "text/plain": [
       "<matplotlib.figure.Figure at 0x2818a48c908>"
      ]
     },
     "metadata": {},
     "output_type": "display_data"
    },
    {
     "name": "stdout",
     "output_type": "stream",
     "text": [
      "====> Test set loss: 1622.4405\n",
      "====> Epoch: 22 Average loss: 1595.4736\n",
      "{'z_pres_prob': [-0.12, -0.09, -0.09, -0.09], 'z_pres': [0.0, 0.0, 0.0, 0.0]}\n",
      "{'z_pres_prob': [0.0, 0.0, 0.0, 0.0], 'z_pres': [0.0, 0.0, 0.0, 0.0]}\n",
      "{'z_pres_prob': [0.0, 0.0, 0.0, 0.0], 'z_pres': [0.0, 0.0, 0.0, 0.0]}\n"
     ]
    },
    {
     "data": {
      "image/png": "[encoded data removed]",
      "text/plain": [
       "<matplotlib.figure.Figure at 0x281bd834a58>"
      ]
     },
     "metadata": {},
     "output_type": "display_data"
    },
    {
     "name": "stdout",
     "output_type": "stream",
     "text": [
      "====> Test set loss: 1622.4891\n",
      "====> Epoch: 23 Average loss: 1595.4786\n",
      "{'z_pres_prob': [-0.12, -0.11, -0.09, -0.09], 'z_pres': [0.0, 0.0, 0.0, 0.0]}\n",
      "{'z_pres_prob': [0.0, 0.0, 0.0, 0.0], 'z_pres': [0.0, 0.0, 0.0, 0.0]}\n",
      "{'z_pres_prob': [0.0, 0.0, 0.0, 0.0], 'z_pres': [0.0, 0.0, 0.0, 0.0]}\n"
     ]
    },
    {
     "data": {
      "image/png": "[encoded data removed]",
      "text/plain": [
       "<matplotlib.figure.Figure at 0x2818a48c198>"
      ]
     },
     "metadata": {},
     "output_type": "display_data"
    },
    {
     "name": "stdout",
     "output_type": "stream",
     "text": [
      "====> Test set loss: 1622.4217\n",
      "====> Epoch: 24 Average loss: 1595.4781\n",
      "{'z_pres_prob': [-0.18, -0.09, -0.11, -0.14], 'z_pres': [0.0, 0.0, 0.0, 0.0]}\n",
      "{'z_pres_prob': [0.0, 0.0, 0.0, 0.0], 'z_pres': [0.0, 0.0, 0.0, 0.0]}\n",
      "{'z_pres_prob': [0.0, 0.0, 0.0, 0.0], 'z_pres': [0.0, 0.0, 0.0, 0.0]}\n"
     ]
    },
    {
     "data": {
      "image/png": "[encoded data removed]",
      "text/plain": [
       "<matplotlib.figure.Figure at 0x2818a48c748>"
      ]
     },
     "metadata": {},
     "output_type": "display_data"
    },
    {
     "name": "stdout",
     "output_type": "stream",
     "text": [
      "====> Test set loss: 1622.4535\n",
      "====> Epoch: 25 Average loss: 1595.4778\n",
      "{'z_pres_prob': [-0.16, -0.13, -0.15, -0.12], 'z_pres': [0.0, 0.0, 0.0, 0.0]}\n",
      "{'z_pres_prob': [0.0, 0.0, 0.0, 0.0], 'z_pres': [0.0, 0.0, 0.0, 0.0]}\n",
      "{'z_pres_prob': [0.0, 0.0, 0.0, 0.0], 'z_pres': [0.0, 0.0, 0.0, 0.0]}\n"
     ]
    },
    {
     "data": {
      "image/png": "[encoded data removed]",
      "text/plain": [
       "<matplotlib.figure.Figure at 0x2818a553d68>"
      ]
     },
     "metadata": {},
     "output_type": "display_data"
    },
    {
     "name": "stdout",
     "output_type": "stream",
     "text": [
      "====> Test set loss: 1622.4324\n"
     ]
    }
   ],
   "source": [
    "class AIR(nn.Module):\n",
    "    def __init__(self):\n",
    "        super(AIR, self).__init__()\n",
    "        self.inp_dim = 2500\n",
    "        self.obj_dim = 400\n",
    "        self.obj_hidden_dim = 200\n",
    "        self.z_where_dim = 3\n",
    "        self.z_what_dim = 50\n",
    "        self.z_pres_dim = 1\n",
    "        self.lstm_state_dim = 256\n",
    "        \n",
    "        self.rnn = nn.LSTMCell(self.inp_dim + self.z_what_dim + self.z_where_dim + self.z_pres_dim,\n",
    "                               self.lstm_state_dim)\n",
    "        \n",
    "        self.baseline_rnn = nn.LSTMCell(self.inp_dim + self.z_what_dim + self.z_where_dim + self.z_pres_dim,\n",
    "                                        self.lstm_state_dim)\n",
    "        \n",
    "        self.baseline_predict = nn.Linear(self.lstm_state_dim, self.z_pres_dim)\n",
    "        \n",
    "        ''' Predict z_pres and z_where (mu, logvar) from lstm hidden state information '''\n",
    "        self.latent_pred = nn.Linear(self.lstm_state_dim,\n",
    "                                     self.z_pres_dim + self.z_where_dim + self.z_where_dim)\n",
    "        \n",
    "        ''' Encoder layers: Encode object under attention window, into z_what (mu, logvar) '''\n",
    "        self.fc1 = nn.Linear(self.obj_dim, self.obj_hidden_dim)\n",
    "        self.fc2 = nn.Linear(self.obj_hidden_dim, 2 * self.z_what_dim)\n",
    "        \n",
    "        ''' Decoder layers: Decode z_what (mu, logvar) into corresponding object '''\n",
    "        self.fc3 = nn.Linear(self.z_what_dim, self.obj_hidden_dim)\n",
    "        self.fc4 = nn.Linear(self.obj_hidden_dim, self.obj_dim)\n",
    "    \n",
    "    \n",
    "\n",
    "    def baseline_estimate(self, x, prev):\n",
    "        rnn_input = torch.cat((x,\n",
    "                               prev.z_where.detach(),\n",
    "                               prev.z_what.detach(),\n",
    "                               prev.z_pres.detach()), 1)\n",
    "        \n",
    "        baseline_h, baseline_c = self.baseline_rnn(rnn_input, (prev.baseline_h, prev.baseline_c))\n",
    "        baseline_z_pres_prob = self.baseline_predict(baseline_h) * prev.z_pres\n",
    "        return baseline_z_pres_prob, baseline_h, baseline_c\n",
    "    \n",
    "    \n",
    "    def infer_net(self, x, prev):\n",
    "        \n",
    "        \n",
    "        baseline_z_pres_prob, baseline_h, baseline_c = self.baseline_estimate(x, prev)\n",
    "        \n",
    "        ''' Pass [previous z_code (pres + where+ what) + input image] to LSTM '''\n",
    "        rnn_ip = torch.cat((x,\n",
    "                            prev.z_where,\n",
    "                            prev.z_what,\n",
    "                            prev.z_pres), 1)\n",
    "        \n",
    "        h, c = self.rnn(rnn_ip, (prev.h, prev.c))\n",
    "        \n",
    "        ''' Fetch z_pres + z_where (mu, logvar) '''\n",
    "        z_code = self.latent_pred(h)\n",
    "        \n",
    "        ''' z_pres probability is multiplied with previous z_pres,\n",
    "            so as to force current z_pres to 0, if previous z_pres\n",
    "            was 0 as well. This way we ensure that if z_pres is 0\n",
    "            at any time step, all further time steps give z_pres=0.\n",
    "        '''\n",
    "        z_pres_prob = F.sigmoid(z_code[:, 0:1]) - baseline_z_pres_prob.detach()\n",
    "        z_pres = Bernoulli(z_pres_prob.clamp(min=0., max=1.) * prev.z_pres).sample()\n",
    "        \n",
    "        ''' z_where parameters are continuous latent variables on which\n",
    "            we apply reparameterization trick for approximate variational inference\n",
    "        '''\n",
    "        z_where_mu = z_code[:, 1:4]\n",
    "        z_where_logvar = z_code[:, 4:]\n",
    "        z_where = self.reparameterize(z_where_mu, z_where_logvar)\n",
    "        \n",
    "        ''' Spatial transformer nets are used to generate attention window for object\n",
    "            located by z_where, from original image 'x' \n",
    "        '''\n",
    "        x_att = image_to_object(z_where, x)   \n",
    "        \n",
    "        ''' Encode object to its z-what params (mu, logvar), followed by reparameterizing\n",
    "        '''\n",
    "        h_enc = F.relu(self.fc1(x_att))\n",
    "        z_what_code = self.fc2(h_enc)\n",
    "        \n",
    "        \n",
    "        ''' Store all state information for next time step of AIR network\n",
    "        '''\n",
    "        prev.z_what_mu = z_what_code[:, :50]\n",
    "        prev.z_what_logvar = z_what_code[:, 50:]\n",
    "        prev.z_what = self.reparameterize(z_what_code[:, :50], z_what_code[:, 50:])\n",
    "        \n",
    "        prev.z_where_mu = z_where_mu\n",
    "        prev.z_where_logvar = z_where_logvar\n",
    "        prev.z_where = z_where\n",
    "        \n",
    "        prev.z_pres_prob = z_pres_prob\n",
    "        prev.z_pres = z_pres\n",
    "        prev.z_pres_list.append({'z_pres_prob':[round(i.item(), 2) for i in z_pres_prob],\\\n",
    "                                 'z_pres':[round(i.item(), 2) for i in z_pres]})\n",
    "        prev.h = h\n",
    "        prev.c = c\n",
    "        \n",
    "        prev.baseline_z_pres_prob = baseline_z_pres_prob\n",
    "        \n",
    "        prev.baseline_h = baseline_h\n",
    "        prev.baseline_c = baseline_c\n",
    "        \n",
    "        return prev\n",
    "\n",
    "\n",
    "    def reparameterize(self, mu, logvar):\n",
    "        if self.training:\n",
    "            std = torch.exp(0.5*logvar)\n",
    "            eps = torch.randn_like(std)\n",
    "            return eps.mul(std).add_(mu)\n",
    "        else:\n",
    "            return mu\n",
    "    \n",
    "    def generator_net(self, recon_x, curr):\n",
    "        \n",
    "        ''' Reconstruct object from z_what '''\n",
    "        h_dec = F.relu(self.fc3(curr.z_what))\n",
    "        y_att = F.sigmoid(self.fc4(h_dec))\n",
    "        \n",
    "        ''' Spatial Transformer to align and scale reconstructed object into an image canvas '''\n",
    "        y = object_to_image(curr.z_where, y_att).view(-1, 2500)\n",
    "        \n",
    "        ''' Reconstruct full image by summing up 'y' based on predicted z_pres(0/1) '''\n",
    "        recon_x = recon_x + y * curr.z_pres.view(-1, 1)\n",
    "        \n",
    "        return recon_x\n",
    "\n",
    "    def forward(self, x):\n",
    "        \n",
    "        N = 3\n",
    "        code = latent_code_state(x.size(0), self.z_pres_dim, self.z_where_dim,\n",
    "                                 self.z_what_dim, self.lstm_state_dim)\n",
    "        recon_x = torch.zeros_like(x.view(-1, 2500))\n",
    "        \n",
    "        for i in range(N):\n",
    "            \n",
    "            ''' **TODO** : Add baseline step to get data-driven NVIL estimate\n",
    "            '''\n",
    "            \n",
    "            code = self.infer_net(x.view(-1, 2500), code)\n",
    "            \n",
    "            recon_x = self.generator_net(recon_x, code).view(-1, 2500)\n",
    "            \n",
    "        \n",
    "        ''' After all N steps, fetch latent variable params + samples to compute kl divergence '''\n",
    "        ''' **TODO**  : Add the contribution of z_pres : Bernoulli_to_modified_geometric_distribution '''\n",
    "        kld_loss = compute_kld(code.z_what, code.z_what_mu, code.z_what_logvar) + \\\n",
    "                   compute_kld(code.z_where, code.z_where_mu, code.z_where_logvar)\n",
    "\n",
    "        baseline_net_loss = F.mse_loss(code.baseline_z_pres_prob, code.z_pres_prob)\n",
    "        \n",
    "        return recon_x, code, kld_loss, baseline_net_loss\n",
    "\n",
    "    def generate_sample(self, x):\n",
    "        ''' Called during testing phase to sample reconstructions from prior codes.\n",
    "            Not to be called while training\n",
    "        '''\n",
    "        N = 3\n",
    "        code = latent_code_state(x.size(0), self.z_pres_dim, self.z_where_dim,\n",
    "                                 self.z_what_dim, self.lstm_state_dim)\n",
    "        recon_x = torch.zeros_like(x.view(-1, 2500))\n",
    "        recon_stages = torch.zeros(N, recon_x.size(0), 2500)\n",
    "        \n",
    "        for i in range(N):\n",
    "            \n",
    "            code = self.infer_net(x.view(-1, 2500), code)\n",
    "            recon_x = self.generator_net(recon_x, code).view(-1, 2500)\n",
    "            recon_stages[i] = recon_x\n",
    "        \n",
    "        [print(i) for i in code.z_pres_list]\n",
    "        return recon_stages\n",
    "    \n",
    "\n",
    "model = AIR().to(device)\n",
    "#model.state_dict = torch.load('air_0.pt')\n",
    "optimizer = optim.Adam(model.parameters(), lr=1e-3)\n",
    "\n",
    "\n",
    "# Reconstruction loss\n",
    "def loss_function(recon_x, x):\n",
    "    ''' Estimate quality of reconstructions with BCE '''\n",
    "    BCE = F.binary_cross_entropy(recon_x.clamp(min=0., max=1.), x.view(-1, 2500), size_average=False)\n",
    "    return BCE\n",
    "\n",
    "def train(epoch, train_iter, train_dset_size):\n",
    "    \n",
    "    model.train()\n",
    "    log_interval = 10\n",
    "    train_loss = 0\n",
    "    \n",
    "    for batch_idx, (data, _) in enumerate(train_iter):\n",
    "        data = data.to(device)\n",
    "        optimizer.zero_grad()\n",
    "        batch_loss = 0\n",
    "        \n",
    "        x = data.view(-1, 2500)\n",
    "        recon_x, code, kld, baseline_loss = model(x)\n",
    "        batch_loss = loss_function(recon_x, x) + kld.sum() + baseline_loss.sum()\n",
    "\n",
    "        batch_loss.backward()\n",
    "        train_loss += batch_loss.item()\n",
    "        optimizer.step()\n",
    "        \n",
    "        \n",
    "        '''\n",
    "        **LABEL** : COMMENTED OUT LOG OUTPUT INFORMATION (ENABLE AS AND WHEN NEEDED)\n",
    "        if batch_idx % log_interval == 0:\n",
    "            print('Train Epoch: {} [{}/{} ({:.0f}%)]\\tLoss: {:.6f}'.format(\n",
    "                epoch, batch_idx * len(data), train_dset_size,\n",
    "                100. * batch_idx / (train_dset_size//batch_size),\n",
    "                batch_loss.item() / len(data)))\n",
    "        '''\n",
    "    print('====> Epoch: {} Average loss: {:.4f}'.format(epoch, train_loss / train_dset_size))\n",
    "\n",
    "\n",
    "def test(epoch, test_iter, test_dset_size):\n",
    "    model.eval()\n",
    "    test_loss = 0\n",
    "    \n",
    "    with torch.no_grad():\n",
    "        for i, (data, _) in enumerate(test_iter):\n",
    "            data = data.to(device)\n",
    "            \n",
    "            batch_loss = 0\n",
    "            x = data.view(-1, 2500)\n",
    "            recon_x, code, kld, baseline_loss = model(x)\n",
    "            \n",
    "            batch_loss = loss_function(recon_x, x).item() + \\\n",
    "                         kld.sum().item() + \\\n",
    "                         baseline_loss.sum().item()\n",
    "                \n",
    "            test_loss += batch_loss\n",
    "            \n",
    "            ''' Plot images as :\n",
    "            \n",
    "                Img1        Img2        Img3        Img4\n",
    "                Recon1_t=0  Recon2_t=0  Recon3_t=0  Recon4_t=0\n",
    "                Recon1_t=1  Recon2_t=1  Recon3_t=1  Recon4_t=1\n",
    "                Recon1_t=2  Recon2_t=2  Recon3_t=2  Recon4_t=2\n",
    "            '''\n",
    "            if i == 0:\n",
    "                n = min(data.size(0), 4)\n",
    "                N = 3\n",
    "\n",
    "                x = data[:n].view(-1, 2500)\n",
    "                recon_x = model.generate_sample(x)\n",
    "                recon_batch = recon_x.view(N, n, 1, 2500)\n",
    "                \n",
    "                comparison = torch.cat([data[:n].view(-1, 1, 50, 50),\n",
    "                                        recon_batch[0].view(-1, 1, 50, 50),\n",
    "                                        recon_batch[1].view(-1, 1, 50, 50),\n",
    "                                        recon_batch[2].view(-1, 1, 50, 50)])\n",
    "                \n",
    "                save_image(comparison.cpu(),\n",
    "                           'reconstruction_' + str(epoch) + '.png', nrow=n)\n",
    "\n",
    "                img = mpimg.imread('reconstruction_' + str(epoch) + '.png')\n",
    "                plt.axis('off')\n",
    "                plt.title('reconstruction_' + str(epoch) + '.png')\n",
    "                plt.imshow(img)\n",
    "                plt.show()\n",
    "\n",
    "    test_loss /= test_dset_size\n",
    "    print('====> Test set loss: {:.4f}'.format(test_loss))\n",
    "\n",
    "epochs = 25\n",
    "for epoch in range(1, epochs + 1):\n",
    "    train_iter, test_iter, train_dset_size, test_dset_size = data_iter_init()\n",
    "    train(epoch, train_iter, train_dset_size)\n",
    "    test(epoch, test_iter, test_dset_size)"
   ]
  },
  {
   "cell_type": "code",
   "execution_count": 0,
   "metadata": {
    "colab": {},
    "colab_type": "code",
    "collapsed": true,
    "id": "WmY-9krdCQNe"
   },
   "outputs": [],
   "source": []
  }
 ],
 "metadata": {
  "accelerator": "GPU",
  "colab": {
   "collapsed_sections": [],
   "name": "TensorFlow with GPU",
   "provenance": [],
   "toc_visible": true,
   "version": "0.3.2"
  },
  "kernelspec": {
   "display_name": "Python 3",
   "language": "python",
   "name": "python3"
  },
  "language_info": {
   "codemirror_mode": {
    "name": "ipython",
    "version": 3
   },
   "file_extension": ".py",
   "mimetype": "text/x-python",
   "name": "python",
   "nbconvert_exporter": "python",
   "pygments_lexer": "ipython3",
   "version": "3.6.1"
  }
 },
 "nbformat": 4,
 "nbformat_minor": 1
}
